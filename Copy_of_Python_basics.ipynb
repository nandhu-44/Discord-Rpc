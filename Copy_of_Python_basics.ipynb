{
  "nbformat": 4,
  "nbformat_minor": 0,
  "metadata": {
    "colab": {
      "provenance": [],
      "authorship_tag": "ABX9TyPXx9FDgkPJTqzATfK4hhNz"
    },
    "kernelspec": {
      "name": "python3",
      "display_name": "Python 3"
    },
    "language_info": {
      "name": "python"
    }
  },
  "cells": [
    {
      "cell_type": "code",
      "execution_count": null,
      "metadata": {
        "colab": {
          "base_uri": "https://localhost:8080/"
        },
        "id": "QH2RJ_iWa8pO",
        "outputId": "2483fbdc-3271-4bef-c7ea-1bdd267a78d9"
      },
      "outputs": [
        {
          "output_type": "stream",
          "name": "stdout",
          "text": [
            "Hello World <class 'str'>\n"
          ]
        }
      ],
      "source": [
        "st = \"Hello World\"\n",
        "print(st,type(st))"
      ]
    },
    {
      "cell_type": "code",
      "source": [
        "a = 5\n",
        "b = 1.25\n",
        "print(a,b)\n",
        "print(type(a),type(b))"
      ],
      "metadata": {
        "colab": {
          "base_uri": "https://localhost:8080/"
        },
        "id": "_zLwjveKc_YZ",
        "outputId": "b540b23d-c904-4016-9250-282dee437406"
      },
      "execution_count": null,
      "outputs": [
        {
          "output_type": "stream",
          "name": "stdout",
          "text": [
            "5 1.25\n",
            "<class 'int'> <class 'float'>\n"
          ]
        }
      ]
    },
    {
      "cell_type": "code",
      "source": [
        "f = True\n",
        "print(f,type(f))"
      ],
      "metadata": {
        "colab": {
          "base_uri": "https://localhost:8080/"
        },
        "id": "2bsBf5hRdC_9",
        "outputId": "700cd245-82dc-4960-c66f-8f33b641778f"
      },
      "execution_count": null,
      "outputs": [
        {
          "output_type": "stream",
          "name": "stdout",
          "text": [
            "True <class 'bool'>\n"
          ]
        }
      ]
    },
    {
      "cell_type": "code",
      "source": [
        "y = 5 + 3j\n",
        "print(y,type(y))"
      ],
      "metadata": {
        "colab": {
          "base_uri": "https://localhost:8080/"
        },
        "id": "klQcCmS7dbqT",
        "outputId": "693008e8-fb91-4d16-dd5b-68bfb1c97b3f"
      },
      "execution_count": null,
      "outputs": [
        {
          "output_type": "stream",
          "name": "stdout",
          "text": [
            "(5+3j) <class 'complex'>\n"
          ]
        }
      ]
    },
    {
      "cell_type": "code",
      "source": [
        "a = 8\n",
        "b = 5\n",
        "\n",
        "ab_sum = a + b\n",
        "print(ab_sum)\n",
        "\n",
        "ab_diff = a - b\n",
        "print(ab_diff)\n",
        "\n",
        "ab_pdt = a * b\n",
        "print(ab_pdt)"
      ],
      "metadata": {
        "colab": {
          "base_uri": "https://localhost:8080/"
        },
        "id": "5nggKbbQegaQ",
        "outputId": "777b17fa-19ff-41b7-f9e8-98b02f9539e1"
      },
      "execution_count": null,
      "outputs": [
        {
          "output_type": "stream",
          "name": "stdout",
          "text": [
            "13\n",
            "3\n",
            "40\n"
          ]
        }
      ]
    },
    {
      "cell_type": "code",
      "source": [
        "ab_quo = a/b\n",
        "print(ab_quo)\n",
        "\n",
        "ab_iquo = a//b\n",
        "print(ab_iquo)\n",
        "\n",
        "ab_rem = a % b\n",
        "print(ab_rem)\n",
        "\n",
        "ab_pow =  a ** b\n",
        "print(ab_pow)"
      ],
      "metadata": {
        "colab": {
          "base_uri": "https://localhost:8080/"
        },
        "id": "qVIhVRtFfSJH",
        "outputId": "83302978-02ab-41ad-aabf-9c275936a147"
      },
      "execution_count": null,
      "outputs": [
        {
          "output_type": "stream",
          "name": "stdout",
          "text": [
            "1.6\n",
            "1\n",
            "3\n",
            "32768\n"
          ]
        }
      ]
    },
    {
      "cell_type": "code",
      "source": [
        "# Average of three numbers\n",
        "\n",
        "num1 = int(input(\"Enter number1: \"))\n",
        "num2 = int(input(\"Enter number2: \"))\n",
        "num3 = int(input(\"Enter number3: \"))\n",
        "sum = num1 + num2 + num3\n",
        "average = sum/3\n",
        "print(f\"Average of {num1} , {num2} and {num3} is {average}\")\n"
      ],
      "metadata": {
        "colab": {
          "base_uri": "https://localhost:8080/"
        },
        "id": "AKogZJUcgKNl",
        "outputId": "6fe01751-0390-4198-8dc9-4b8ec5a45585"
      },
      "execution_count": null,
      "outputs": [
        {
          "output_type": "stream",
          "name": "stdout",
          "text": [
            "Enter number1: 12\n",
            "Enter number2: 13\n",
            "Enter number3: 14\n",
            "Average of 12 , 13 and 14 is 13.0\n"
          ]
        }
      ]
    },
    {
      "cell_type": "markdown",
      "source": [],
      "metadata": {
        "id": "Is12XVACuZgb"
      }
    },
    {
      "cell_type": "code",
      "source": [
        "# Area and perimeter of a triangle\n",
        "\n",
        "import math\n",
        "\n",
        "a = int(input(\"Length of side 1: \"))\n",
        "b = int(input(\"Length of side 2: \"))\n",
        "c = int(input(\"Length of side 3: \"))\n",
        "p = a + b + c\n",
        "s = p/2\n",
        "Area = math.sqrt(s*(s-a)*(s-b)*(s-c))\n",
        "print(f\"Perimeter is {p} \\nArea is {Area}\")\n"
      ],
      "metadata": {
        "colab": {
          "base_uri": "https://localhost:8080/"
        },
        "id": "XXSl7mAjnlU3",
        "outputId": "65c5f781-581a-4b82-a6ce-4c790fe8a0b5"
      },
      "execution_count": null,
      "outputs": [
        {
          "output_type": "stream",
          "name": "stdout",
          "text": [
            "Length of side 1: 12\n",
            "Length of side 2: 12\n",
            "Length of side 3: 12\n",
            "Perimeter is 36 \n",
            "Area is 62.353829072479584\n"
          ]
        }
      ]
    },
    {
      "cell_type": "code",
      "source": [
        "# Area of a circle\n",
        "\n",
        "radius = int(input(\"Enter the radius : \"))\n",
        "pi = 3.14\n",
        "area = pi * (radius**2)\n",
        "print(f\"Area of the circle is : {area}\")"
      ],
      "metadata": {
        "colab": {
          "base_uri": "https://localhost:8080/"
        },
        "id": "cu1mXSkt_rzi",
        "outputId": "933b985a-b40e-4906-b941-7342877ca593"
      },
      "execution_count": null,
      "outputs": [
        {
          "output_type": "stream",
          "name": "stdout",
          "text": [
            "Enter the radius : 3\n",
            "Area of the circle is : 28.26\n"
          ]
        }
      ]
    },
    {
      "cell_type": "code",
      "source": [
        "name = input(\"Enter your name : \")\n",
        "college = input(\"Enter your college/university name : \") \n",
        "course = input(\"Enter your course name : \")\n",
        "year_of_study = int(input(\"Enter your year of study : \"))\n",
        "year_of_join = int(input(\"Enter your year of joining : \"))\n",
        "\n",
        "message = f\"\"\"\n",
        "You are {name}, alloted for {course} in {college} in the year of {year_of_join} till {year_of_join + year_of_study}.\n",
        "\"\"\"\n",
        "print(message)"
      ],
      "metadata": {
        "colab": {
          "base_uri": "https://localhost:8080/"
        },
        "id": "l_e5DITzBnQ5",
        "outputId": "1f2a1102-2de5-4c58-832b-b515343630ca"
      },
      "execution_count": null,
      "outputs": [
        {
          "output_type": "stream",
          "name": "stdout",
          "text": [
            "Enter your name : Nandhu Krishnan A\n",
            "Enter your college/university name : CUSAT\n",
            "Enter your course name : IMSC CS\n",
            "Enter your year of study : 5\n",
            "Enter your year of joining : 2022\n",
            "\n",
            "You are Nandhu Krishnan A, alloted for IMSC CS in CUSAT in the year of 2022 till 2027.\n",
            "\n"
          ]
        }
      ]
    },
    {
      "cell_type": "code",
      "source": [
        "# String functions\n",
        "\n",
        "s1 = \"Hello\"\n",
        "s2 = \"World\"\n",
        "print(s1)\n",
        "print(s2)\n",
        "\n",
        "s3 = s1 + \" \" + s2\n",
        "print(s3)\n",
        "\n",
        "print(len(s3))\n",
        "\n",
        "print(s1.upper())\n",
        "\n",
        "print(\"hi\".capitalize())\n",
        "\n",
        "print(s2.lower())\n",
        "\n",
        "print(\"Hello World How Are You?\".split(\" \"))\n",
        "\n",
        "print(s3.replace(\"Hello\",\"Python\"))\n",
        "\n",
        "print(s3.find(\"World\"))\n",
        "print(s3.find(\"dl\"))"
      ],
      "metadata": {
        "colab": {
          "base_uri": "https://localhost:8080/"
        },
        "id": "gAq4QLY2Fpb3",
        "outputId": "aced389e-e19d-4578-bf73-8eb1694b1194"
      },
      "execution_count": 3,
      "outputs": [
        {
          "output_type": "stream",
          "name": "stdout",
          "text": [
            "Hello\n",
            "World\n",
            "Hello World\n",
            "11\n",
            "HELLO\n",
            "Hi\n",
            "world\n",
            "['Hello', 'World', 'How', 'Are', 'You?']\n",
            "Python World\n",
            "6\n",
            "-1\n"
          ]
        }
      ]
    },
    {
      "cell_type": "code",
      "source": [
        "# Check for a two digit number\n",
        "\n",
        "number = int(input(\"Enter a number : \"))\n",
        "if number > 9 and number < 100 :\n",
        "  print(\"Given number is a 2 digit number\")\n",
        "else:\n",
        "  print(\"Given number is not a 2 digit number\")"
      ],
      "metadata": {
        "colab": {
          "base_uri": "https://localhost:8080/"
        },
        "id": "9NWM-Dt6LHOl",
        "outputId": "9294d25e-2c92-4148-b33d-34bf6386c6fd"
      },
      "execution_count": 7,
      "outputs": [
        {
          "output_type": "stream",
          "name": "stdout",
          "text": [
            "Enter a 2 digit number : 1\n",
            "Given number is not a 2 digit number\n"
          ]
        }
      ]
    }
  ]
}